{
 "cells": [
  {
   "cell_type": "code",
   "execution_count": 1,
   "metadata": {},
   "outputs": [],
   "source": [
    "import pandas as pd\n",
    "import numpy as np\n",
    "import seaborn as sns\n",
    "import matplotlib.pyplot as plt\n",
    "from sklearn.preprocessing import MinMaxScaler, StandardScaler, OneHotEncoder\n",
    "from sklearn.impute import SimpleImputer"
   ]
  },
  {
   "cell_type": "code",
   "execution_count": 3,
   "metadata": {},
   "outputs": [],
   "source": [
    "columns = [\"id\", \"cycle\", \"op1\", \"op2\", \"op3\", \"sensor1\", \"sensor2\", \"sensor3\", \"sensor4\", \"sensor5\", \n",
    "           \"sensor6\", \"sensor7\", \"sensor8\", \"sensor9\", \"sensor10\", \"sensor11\", \"sensor12\", \"sensor13\", \n",
    "           \"sensor14\", \"sensor15\", \"sensor16\", \"sensor17\", \"sensor18\", \"sensor19\", \"sensor20\", \"sensor21\", \n",
    "           \"sensor22\", \"sensor23\"]"
   ]
  },
  {
   "cell_type": "code",
   "execution_count": 6,
   "metadata": {},
   "outputs": [],
   "source": [
    "train = pd.read_csv(r\"C:\\Users\\Admin\\Desktop\\Chinmayee Verma\\Turbofan Predictive Maintainance (NASA) (Dataset)\\Dataset\\train_FD001.txt\", sep=\" \", names=columns, engine='python')\n",
    "test = pd.read_csv(r\"C:\\Users\\Admin\\Desktop\\Chinmayee Verma\\Turbofan Predictive Maintainance (NASA) (Dataset)\\Dataset\\test_FD001.txt\", sep=\" \", names=columns, engine='python')\n",
    "test_result = pd.read_csv(r\"C:\\Users\\Admin\\Desktop\\Chinmayee Verma\\Turbofan Predictive Maintainance (NASA) (Dataset)\\Dataset\\RUL_FD001.txt\", sep=\" \", header=None, engine='python')"
   ]
  },
  {
   "cell_type": "code",
   "execution_count": 7,
   "metadata": {},
   "outputs": [
    {
     "name": "stdout",
     "output_type": "stream",
     "text": [
      "   id  cycle     op1     op2    op3  sensor1  sensor2  sensor3  sensor4  \\\n",
      "0   1      1 -0.0007 -0.0004  100.0   518.67   641.82  1589.70  1400.60   \n",
      "1   1      2  0.0019 -0.0003  100.0   518.67   642.15  1591.82  1403.14   \n",
      "2   1      3 -0.0043  0.0003  100.0   518.67   642.35  1587.99  1404.20   \n",
      "3   1      4  0.0007  0.0000  100.0   518.67   642.35  1582.79  1401.87   \n",
      "4   1      5 -0.0019 -0.0002  100.0   518.67   642.37  1582.85  1406.22   \n",
      "\n",
      "   sensor5  ...  sensor14  sensor15  sensor16  sensor17  sensor18  sensor19  \\\n",
      "0    14.62  ...   8138.62    8.4195      0.03       392      2388     100.0   \n",
      "1    14.62  ...   8131.49    8.4318      0.03       392      2388     100.0   \n",
      "2    14.62  ...   8133.23    8.4178      0.03       390      2388     100.0   \n",
      "3    14.62  ...   8133.83    8.3682      0.03       392      2388     100.0   \n",
      "4    14.62  ...   8133.80    8.4294      0.03       393      2388     100.0   \n",
      "\n",
      "   sensor20  sensor21  sensor22  sensor23  \n",
      "0     39.06   23.4190       NaN       NaN  \n",
      "1     39.00   23.4236       NaN       NaN  \n",
      "2     38.95   23.3442       NaN       NaN  \n",
      "3     38.88   23.3739       NaN       NaN  \n",
      "4     38.90   23.4044       NaN       NaN  \n",
      "\n",
      "[5 rows x 28 columns]\n",
      "<class 'pandas.core.frame.DataFrame'>\n",
      "RangeIndex: 20631 entries, 0 to 20630\n",
      "Data columns (total 28 columns):\n",
      " #   Column    Non-Null Count  Dtype  \n",
      "---  ------    --------------  -----  \n",
      " 0   id        20631 non-null  int64  \n",
      " 1   cycle     20631 non-null  int64  \n",
      " 2   op1       20631 non-null  float64\n",
      " 3   op2       20631 non-null  float64\n",
      " 4   op3       20631 non-null  float64\n",
      " 5   sensor1   20631 non-null  float64\n",
      " 6   sensor2   20631 non-null  float64\n",
      " 7   sensor3   20631 non-null  float64\n",
      " 8   sensor4   20631 non-null  float64\n",
      " 9   sensor5   20631 non-null  float64\n",
      " 10  sensor6   20631 non-null  float64\n",
      " 11  sensor7   20631 non-null  float64\n",
      " 12  sensor8   20631 non-null  float64\n",
      " 13  sensor9   20631 non-null  float64\n",
      " 14  sensor10  20631 non-null  float64\n",
      " 15  sensor11  20631 non-null  float64\n",
      " 16  sensor12  20631 non-null  float64\n",
      " 17  sensor13  20631 non-null  float64\n",
      " 18  sensor14  20631 non-null  float64\n",
      " 19  sensor15  20631 non-null  float64\n",
      " 20  sensor16  20631 non-null  float64\n",
      " 21  sensor17  20631 non-null  int64  \n",
      " 22  sensor18  20631 non-null  int64  \n",
      " 23  sensor19  20631 non-null  float64\n",
      " 24  sensor20  20631 non-null  float64\n",
      " 25  sensor21  20631 non-null  float64\n",
      " 26  sensor22  0 non-null      float64\n",
      " 27  sensor23  0 non-null      float64\n",
      "dtypes: float64(24), int64(4)\n",
      "memory usage: 4.4 MB\n",
      "None\n",
      "                 id         cycle           op1           op2      op3  \\\n",
      "count  20631.000000  20631.000000  20631.000000  20631.000000  20631.0   \n",
      "mean      51.506568    108.807862     -0.000009      0.000002    100.0   \n",
      "std       29.227633     68.880990      0.002187      0.000293      0.0   \n",
      "min        1.000000      1.000000     -0.008700     -0.000600    100.0   \n",
      "25%       26.000000     52.000000     -0.001500     -0.000200    100.0   \n",
      "50%       52.000000    104.000000      0.000000      0.000000    100.0   \n",
      "75%       77.000000    156.000000      0.001500      0.000300    100.0   \n",
      "max      100.000000    362.000000      0.008700      0.000600    100.0   \n",
      "\n",
      "        sensor1       sensor2       sensor3       sensor4       sensor5  ...  \\\n",
      "count  20631.00  20631.000000  20631.000000  20631.000000  2.063100e+04  ...   \n",
      "mean     518.67    642.680934   1590.523119   1408.933782  1.462000e+01  ...   \n",
      "std        0.00      0.500053      6.131150      9.000605  1.776400e-15  ...   \n",
      "min      518.67    641.210000   1571.040000   1382.250000  1.462000e+01  ...   \n",
      "25%      518.67    642.325000   1586.260000   1402.360000  1.462000e+01  ...   \n",
      "50%      518.67    642.640000   1590.100000   1408.040000  1.462000e+01  ...   \n",
      "75%      518.67    643.000000   1594.380000   1414.555000  1.462000e+01  ...   \n",
      "max      518.67    644.530000   1616.910000   1441.490000  1.462000e+01  ...   \n",
      "\n",
      "           sensor14      sensor15      sensor16      sensor17  sensor18  \\\n",
      "count  20631.000000  20631.000000  2.063100e+04  20631.000000   20631.0   \n",
      "mean    8143.752722      8.442146  3.000000e-02    393.210654    2388.0   \n",
      "std       19.076176      0.037505  1.387812e-17      1.548763       0.0   \n",
      "min     8099.940000      8.324900  3.000000e-02    388.000000    2388.0   \n",
      "25%     8133.245000      8.414900  3.000000e-02    392.000000    2388.0   \n",
      "50%     8140.540000      8.438900  3.000000e-02    393.000000    2388.0   \n",
      "75%     8148.310000      8.465600  3.000000e-02    394.000000    2388.0   \n",
      "max     8293.720000      8.584800  3.000000e-02    400.000000    2388.0   \n",
      "\n",
      "       sensor19      sensor20      sensor21  sensor22  sensor23  \n",
      "count   20631.0  20631.000000  20631.000000       0.0       0.0  \n",
      "mean      100.0     38.816271     23.289705       NaN       NaN  \n",
      "std         0.0      0.180746      0.108251       NaN       NaN  \n",
      "min       100.0     38.140000     22.894200       NaN       NaN  \n",
      "25%       100.0     38.700000     23.221800       NaN       NaN  \n",
      "50%       100.0     38.830000     23.297900       NaN       NaN  \n",
      "75%       100.0     38.950000     23.366800       NaN       NaN  \n",
      "max       100.0     39.430000     23.618400       NaN       NaN  \n",
      "\n",
      "[8 rows x 28 columns]\n"
     ]
    }
   ],
   "source": [
    "print(train.head())\n",
    "print(train.info())\n",
    "print(train.describe())"
   ]
  },
  {
   "cell_type": "code",
   "execution_count": 8,
   "metadata": {},
   "outputs": [
    {
     "name": "stdout",
     "output_type": "stream",
     "text": [
      "Missing values in train:\n",
      " id              0\n",
      "cycle           0\n",
      "op1             0\n",
      "op2             0\n",
      "op3             0\n",
      "sensor1         0\n",
      "sensor2         0\n",
      "sensor3         0\n",
      "sensor4         0\n",
      "sensor5         0\n",
      "sensor6         0\n",
      "sensor7         0\n",
      "sensor8         0\n",
      "sensor9         0\n",
      "sensor10        0\n",
      "sensor11        0\n",
      "sensor12        0\n",
      "sensor13        0\n",
      "sensor14        0\n",
      "sensor15        0\n",
      "sensor16        0\n",
      "sensor17        0\n",
      "sensor18        0\n",
      "sensor19        0\n",
      "sensor20        0\n",
      "sensor21        0\n",
      "sensor22    20631\n",
      "sensor23    20631\n",
      "dtype: int64\n"
     ]
    },
    {
     "name": "stderr",
     "output_type": "stream",
     "text": [
      "c:\\Users\\Admin\\anaconda3\\envs\\ChinmayeeENV\\Lib\\site-packages\\sklearn\\impute\\_base.py:598: UserWarning: Skipping features without any observed values: ['sensor22' 'sensor23']. At least one non-missing value is needed for imputation with strategy='median'.\n",
      "  warnings.warn(\n"
     ]
    },
    {
     "ename": "ValueError",
     "evalue": "Columns must be same length as key",
     "output_type": "error",
     "traceback": [
      "\u001b[1;31m---------------------------------------------------------------------------\u001b[0m",
      "\u001b[1;31mValueError\u001b[0m                                Traceback (most recent call last)",
      "\u001b[1;32m~\\AppData\\Local\\Temp\\ipykernel_18424\\3230277623.py\u001b[0m in \u001b[0;36m?\u001b[1;34m()\u001b[0m\n\u001b[0;32m      2\u001b[0m \u001b[0msensor_cols\u001b[0m \u001b[1;33m=\u001b[0m \u001b[1;33m[\u001b[0m\u001b[0mcol\u001b[0m \u001b[1;32mfor\u001b[0m \u001b[0mcol\u001b[0m \u001b[1;32min\u001b[0m \u001b[0mtrain\u001b[0m\u001b[1;33m.\u001b[0m\u001b[0mcolumns\u001b[0m \u001b[1;32mif\u001b[0m \u001b[1;34m'sensor'\u001b[0m \u001b[1;32min\u001b[0m \u001b[0mcol\u001b[0m\u001b[1;33m]\u001b[0m\u001b[1;33m\u001b[0m\u001b[1;33m\u001b[0m\u001b[0m\n\u001b[0;32m      3\u001b[0m \u001b[1;33m\u001b[0m\u001b[0m\n\u001b[0;32m      4\u001b[0m \u001b[0mprint\u001b[0m\u001b[1;33m(\u001b[0m\u001b[1;34m\"Missing values in train:\\n\"\u001b[0m\u001b[1;33m,\u001b[0m \u001b[0mtrain\u001b[0m\u001b[1;33m.\u001b[0m\u001b[0misnull\u001b[0m\u001b[1;33m(\u001b[0m\u001b[1;33m)\u001b[0m\u001b[1;33m.\u001b[0m\u001b[0msum\u001b[0m\u001b[1;33m(\u001b[0m\u001b[1;33m)\u001b[0m\u001b[1;33m)\u001b[0m\u001b[1;33m\u001b[0m\u001b[1;33m\u001b[0m\u001b[0m\n\u001b[0;32m      5\u001b[0m \u001b[0mimputer\u001b[0m \u001b[1;33m=\u001b[0m \u001b[0mSimpleImputer\u001b[0m\u001b[1;33m(\u001b[0m\u001b[0mstrategy\u001b[0m\u001b[1;33m=\u001b[0m\u001b[1;34m'median'\u001b[0m\u001b[1;33m)\u001b[0m\u001b[1;33m\u001b[0m\u001b[1;33m\u001b[0m\u001b[0m\n\u001b[1;32m----> 6\u001b[1;33m \u001b[0mtrain\u001b[0m\u001b[1;33m[\u001b[0m\u001b[0msensor_cols\u001b[0m\u001b[1;33m]\u001b[0m \u001b[1;33m=\u001b[0m \u001b[0mimputer\u001b[0m\u001b[1;33m.\u001b[0m\u001b[0mfit_transform\u001b[0m\u001b[1;33m(\u001b[0m\u001b[0mtrain\u001b[0m\u001b[1;33m[\u001b[0m\u001b[0msensor_cols\u001b[0m\u001b[1;33m]\u001b[0m\u001b[1;33m)\u001b[0m\u001b[1;33m\u001b[0m\u001b[1;33m\u001b[0m\u001b[0m\n\u001b[0m\u001b[0;32m      7\u001b[0m \u001b[1;33m\u001b[0m\u001b[0m\n\u001b[0;32m      8\u001b[0m \u001b[1;32mfor\u001b[0m \u001b[0mcol\u001b[0m \u001b[1;32min\u001b[0m \u001b[0msensor_cols\u001b[0m\u001b[1;33m:\u001b[0m\u001b[1;33m\u001b[0m\u001b[1;33m\u001b[0m\u001b[0m\n\u001b[0;32m      9\u001b[0m     \u001b[0msns\u001b[0m\u001b[1;33m.\u001b[0m\u001b[0mboxplot\u001b[0m\u001b[1;33m(\u001b[0m\u001b[0mx\u001b[0m\u001b[1;33m=\u001b[0m\u001b[0mtrain\u001b[0m\u001b[1;33m[\u001b[0m\u001b[0mcol\u001b[0m\u001b[1;33m]\u001b[0m\u001b[1;33m)\u001b[0m\u001b[1;33m\u001b[0m\u001b[1;33m\u001b[0m\u001b[0m\n",
      "\u001b[1;32mc:\\Users\\Admin\\anaconda3\\envs\\ChinmayeeENV\\Lib\\site-packages\\pandas\\core\\frame.py\u001b[0m in \u001b[0;36m?\u001b[1;34m(self, key, value)\u001b[0m\n\u001b[0;32m   4295\u001b[0m \u001b[1;33m\u001b[0m\u001b[0m\n\u001b[0;32m   4296\u001b[0m         \u001b[1;32mif\u001b[0m \u001b[0misinstance\u001b[0m\u001b[1;33m(\u001b[0m\u001b[0mkey\u001b[0m\u001b[1;33m,\u001b[0m \u001b[0mDataFrame\u001b[0m\u001b[1;33m)\u001b[0m \u001b[1;32mor\u001b[0m \u001b[0mgetattr\u001b[0m\u001b[1;33m(\u001b[0m\u001b[0mkey\u001b[0m\u001b[1;33m,\u001b[0m \u001b[1;34m\"ndim\"\u001b[0m\u001b[1;33m,\u001b[0m \u001b[1;32mNone\u001b[0m\u001b[1;33m)\u001b[0m \u001b[1;33m==\u001b[0m \u001b[1;36m2\u001b[0m\u001b[1;33m:\u001b[0m\u001b[1;33m\u001b[0m\u001b[1;33m\u001b[0m\u001b[0m\n\u001b[0;32m   4297\u001b[0m             \u001b[0mself\u001b[0m\u001b[1;33m.\u001b[0m\u001b[0m_setitem_frame\u001b[0m\u001b[1;33m(\u001b[0m\u001b[0mkey\u001b[0m\u001b[1;33m,\u001b[0m \u001b[0mvalue\u001b[0m\u001b[1;33m)\u001b[0m\u001b[1;33m\u001b[0m\u001b[1;33m\u001b[0m\u001b[0m\n\u001b[0;32m   4298\u001b[0m         \u001b[1;32melif\u001b[0m \u001b[0misinstance\u001b[0m\u001b[1;33m(\u001b[0m\u001b[0mkey\u001b[0m\u001b[1;33m,\u001b[0m \u001b[1;33m(\u001b[0m\u001b[0mSeries\u001b[0m\u001b[1;33m,\u001b[0m \u001b[0mnp\u001b[0m\u001b[1;33m.\u001b[0m\u001b[0mndarray\u001b[0m\u001b[1;33m,\u001b[0m \u001b[0mlist\u001b[0m\u001b[1;33m,\u001b[0m \u001b[0mIndex\u001b[0m\u001b[1;33m)\u001b[0m\u001b[1;33m)\u001b[0m\u001b[1;33m:\u001b[0m\u001b[1;33m\u001b[0m\u001b[1;33m\u001b[0m\u001b[0m\n\u001b[1;32m-> 4299\u001b[1;33m             \u001b[0mself\u001b[0m\u001b[1;33m.\u001b[0m\u001b[0m_setitem_array\u001b[0m\u001b[1;33m(\u001b[0m\u001b[0mkey\u001b[0m\u001b[1;33m,\u001b[0m \u001b[0mvalue\u001b[0m\u001b[1;33m)\u001b[0m\u001b[1;33m\u001b[0m\u001b[1;33m\u001b[0m\u001b[0m\n\u001b[0m\u001b[0;32m   4300\u001b[0m         \u001b[1;32melif\u001b[0m \u001b[0misinstance\u001b[0m\u001b[1;33m(\u001b[0m\u001b[0mvalue\u001b[0m\u001b[1;33m,\u001b[0m \u001b[0mDataFrame\u001b[0m\u001b[1;33m)\u001b[0m\u001b[1;33m:\u001b[0m\u001b[1;33m\u001b[0m\u001b[1;33m\u001b[0m\u001b[0m\n\u001b[0;32m   4301\u001b[0m             \u001b[0mself\u001b[0m\u001b[1;33m.\u001b[0m\u001b[0m_set_item_frame_value\u001b[0m\u001b[1;33m(\u001b[0m\u001b[0mkey\u001b[0m\u001b[1;33m,\u001b[0m \u001b[0mvalue\u001b[0m\u001b[1;33m)\u001b[0m\u001b[1;33m\u001b[0m\u001b[1;33m\u001b[0m\u001b[0m\n\u001b[0;32m   4302\u001b[0m         elif (\n",
      "\u001b[1;32mc:\\Users\\Admin\\anaconda3\\envs\\ChinmayeeENV\\Lib\\site-packages\\pandas\\core\\frame.py\u001b[0m in \u001b[0;36m?\u001b[1;34m(self, key, value)\u001b[0m\n\u001b[0;32m   4346\u001b[0m                 \u001b[1;32mfor\u001b[0m \u001b[0mcol\u001b[0m \u001b[1;32min\u001b[0m \u001b[0mkey\u001b[0m\u001b[1;33m:\u001b[0m\u001b[1;33m\u001b[0m\u001b[1;33m\u001b[0m\u001b[0m\n\u001b[0;32m   4347\u001b[0m                     \u001b[0mself\u001b[0m\u001b[1;33m[\u001b[0m\u001b[0mcol\u001b[0m\u001b[1;33m]\u001b[0m \u001b[1;33m=\u001b[0m \u001b[0mvalue\u001b[0m\u001b[1;33m\u001b[0m\u001b[1;33m\u001b[0m\u001b[0m\n\u001b[0;32m   4348\u001b[0m \u001b[1;33m\u001b[0m\u001b[0m\n\u001b[0;32m   4349\u001b[0m             \u001b[1;32melif\u001b[0m \u001b[0misinstance\u001b[0m\u001b[1;33m(\u001b[0m\u001b[0mvalue\u001b[0m\u001b[1;33m,\u001b[0m \u001b[0mnp\u001b[0m\u001b[1;33m.\u001b[0m\u001b[0mndarray\u001b[0m\u001b[1;33m)\u001b[0m \u001b[1;32mand\u001b[0m \u001b[0mvalue\u001b[0m\u001b[1;33m.\u001b[0m\u001b[0mndim\u001b[0m \u001b[1;33m==\u001b[0m \u001b[1;36m2\u001b[0m\u001b[1;33m:\u001b[0m\u001b[1;33m\u001b[0m\u001b[1;33m\u001b[0m\u001b[0m\n\u001b[1;32m-> 4350\u001b[1;33m                 \u001b[0mself\u001b[0m\u001b[1;33m.\u001b[0m\u001b[0m_iset_not_inplace\u001b[0m\u001b[1;33m(\u001b[0m\u001b[0mkey\u001b[0m\u001b[1;33m,\u001b[0m \u001b[0mvalue\u001b[0m\u001b[1;33m)\u001b[0m\u001b[1;33m\u001b[0m\u001b[1;33m\u001b[0m\u001b[0m\n\u001b[0m\u001b[0;32m   4351\u001b[0m \u001b[1;33m\u001b[0m\u001b[0m\n\u001b[0;32m   4352\u001b[0m             \u001b[1;32melif\u001b[0m \u001b[0mnp\u001b[0m\u001b[1;33m.\u001b[0m\u001b[0mndim\u001b[0m\u001b[1;33m(\u001b[0m\u001b[0mvalue\u001b[0m\u001b[1;33m)\u001b[0m \u001b[1;33m>\u001b[0m \u001b[1;36m1\u001b[0m\u001b[1;33m:\u001b[0m\u001b[1;33m\u001b[0m\u001b[1;33m\u001b[0m\u001b[0m\n\u001b[0;32m   4353\u001b[0m                 \u001b[1;31m# list of lists\u001b[0m\u001b[1;33m\u001b[0m\u001b[1;33m\u001b[0m\u001b[0m\n",
      "\u001b[1;32mc:\\Users\\Admin\\anaconda3\\envs\\ChinmayeeENV\\Lib\\site-packages\\pandas\\core\\frame.py\u001b[0m in \u001b[0;36m?\u001b[1;34m(self, key, value)\u001b[0m\n\u001b[0;32m   4373\u001b[0m                 \u001b[1;32mreturn\u001b[0m \u001b[0mobj\u001b[0m\u001b[1;33m[\u001b[0m\u001b[0mi\u001b[0m\u001b[1;33m]\u001b[0m\u001b[1;33m\u001b[0m\u001b[1;33m\u001b[0m\u001b[0m\n\u001b[0;32m   4374\u001b[0m \u001b[1;33m\u001b[0m\u001b[0m\n\u001b[0;32m   4375\u001b[0m         \u001b[1;32mif\u001b[0m \u001b[0mself\u001b[0m\u001b[1;33m.\u001b[0m\u001b[0mcolumns\u001b[0m\u001b[1;33m.\u001b[0m\u001b[0mis_unique\u001b[0m\u001b[1;33m:\u001b[0m\u001b[1;33m\u001b[0m\u001b[1;33m\u001b[0m\u001b[0m\n\u001b[0;32m   4376\u001b[0m             \u001b[1;32mif\u001b[0m \u001b[0mnp\u001b[0m\u001b[1;33m.\u001b[0m\u001b[0mshape\u001b[0m\u001b[1;33m(\u001b[0m\u001b[0mvalue\u001b[0m\u001b[1;33m)\u001b[0m\u001b[1;33m[\u001b[0m\u001b[1;33m-\u001b[0m\u001b[1;36m1\u001b[0m\u001b[1;33m]\u001b[0m \u001b[1;33m!=\u001b[0m \u001b[0mlen\u001b[0m\u001b[1;33m(\u001b[0m\u001b[0mkey\u001b[0m\u001b[1;33m)\u001b[0m\u001b[1;33m:\u001b[0m\u001b[1;33m\u001b[0m\u001b[1;33m\u001b[0m\u001b[0m\n\u001b[1;32m-> 4377\u001b[1;33m                 \u001b[1;32mraise\u001b[0m \u001b[0mValueError\u001b[0m\u001b[1;33m(\u001b[0m\u001b[1;34m\"Columns must be same length as key\"\u001b[0m\u001b[1;33m)\u001b[0m\u001b[1;33m\u001b[0m\u001b[1;33m\u001b[0m\u001b[0m\n\u001b[0m\u001b[0;32m   4378\u001b[0m \u001b[1;33m\u001b[0m\u001b[0m\n\u001b[0;32m   4379\u001b[0m             \u001b[1;32mfor\u001b[0m \u001b[0mi\u001b[0m\u001b[1;33m,\u001b[0m \u001b[0mcol\u001b[0m \u001b[1;32min\u001b[0m \u001b[0menumerate\u001b[0m\u001b[1;33m(\u001b[0m\u001b[0mkey\u001b[0m\u001b[1;33m)\u001b[0m\u001b[1;33m:\u001b[0m\u001b[1;33m\u001b[0m\u001b[1;33m\u001b[0m\u001b[0m\n\u001b[0;32m   4380\u001b[0m                 \u001b[0mself\u001b[0m\u001b[1;33m[\u001b[0m\u001b[0mcol\u001b[0m\u001b[1;33m]\u001b[0m \u001b[1;33m=\u001b[0m \u001b[0migetitem\u001b[0m\u001b[1;33m(\u001b[0m\u001b[0mvalue\u001b[0m\u001b[1;33m,\u001b[0m \u001b[0mi\u001b[0m\u001b[1;33m)\u001b[0m\u001b[1;33m\u001b[0m\u001b[1;33m\u001b[0m\u001b[0m\n",
      "\u001b[1;31mValueError\u001b[0m: Columns must be same length as key"
     ]
    }
   ],
   "source": [
    "operational_cols = [\"op1\", \"op2\", \"op3\"]\n",
    "sensor_cols = [col for col in train.columns if 'sensor' in col]\n",
    "\n",
    "print(\"Missing values in train:\\n\", train.isnull().sum())\n",
    "imputer = SimpleImputer(strategy='median')\n",
    "train[sensor_cols] = imputer.fit_transform(train[sensor_cols])\n",
    "\n",
    "for col in sensor_cols:\n",
    "    sns.boxplot(x=train[col])\n",
    "    plt.title(f\"Box plot for {col}\")\n",
    "    plt.show()"
   ]
  },
  {
   "cell_type": "code",
   "execution_count": 9,
   "metadata": {},
   "outputs": [],
   "source": [
    "# Apply IQR method to cap outliers\n",
    "for col in sensor_cols:\n",
    "    Q1 = train[col].quantile(0.25)\n",
    "    Q3 = train[col].quantile(0.75)\n",
    "    IQR = Q3 - Q1\n",
    "    lower_bound = Q1 - 1.5 * IQR\n",
    "    upper_bound = Q3 + 1.5 * IQR\n",
    "    train[col] = train[col].clip(lower_bound, upper_bound)\n"
   ]
  },
  {
   "cell_type": "code",
   "execution_count": 10,
   "metadata": {},
   "outputs": [
    {
     "name": "stdout",
     "output_type": "stream",
     "text": [
      "Important Features for Predicting RUL:\n",
      " cycle      -0.736241\n",
      "sensor2    -0.606951\n",
      "sensor3    -0.585138\n",
      "sensor4    -0.679527\n",
      "sensor7     0.657792\n",
      "sensor8    -0.565185\n",
      "sensor9    -0.365960\n",
      "sensor11   -0.697033\n",
      "sensor12    0.672671\n",
      "sensor13   -0.563890\n",
      "sensor14   -0.252565\n",
      "sensor15   -0.643236\n",
      "sensor17   -0.606843\n",
      "sensor20    0.629971\n",
      "sensor21    0.636204\n",
      "Name: RUL, dtype: float64\n"
     ]
    }
   ],
   "source": [
    "# 4. Feature Engineering\n",
    "# Calculate Remaining Useful Life (RUL)\n",
    "rul_train = train.groupby('id')['cycle'].max().reset_index()\n",
    "rul_train.columns = ['id', 'MaxCycle']\n",
    "train = train.merge(rul_train, on='id')\n",
    "train['RUL'] = train['MaxCycle'] - train['cycle']\n",
    "train.drop(columns=['MaxCycle'], inplace=True)\n",
    "\n",
    "# Check correlations with RUL\n",
    "correlations = train.corr()['RUL'].drop('RUL')\n",
    "important_features = correlations[correlations.abs() > 0.1]\n",
    "print(\"Important Features for Predicting RUL:\\n\", important_features)\n"
   ]
  },
  {
   "cell_type": "code",
   "execution_count": 11,
   "metadata": {},
   "outputs": [
    {
     "name": "stderr",
     "output_type": "stream",
     "text": [
      "c:\\Users\\Admin\\anaconda3\\envs\\ChinmayeeENV\\Lib\\site-packages\\sklearn\\utils\\_array_api.py:695: RuntimeWarning: All-NaN slice encountered\n",
      "  return xp.asarray(numpy.nanmin(X, axis=axis))\n",
      "c:\\Users\\Admin\\anaconda3\\envs\\ChinmayeeENV\\Lib\\site-packages\\sklearn\\utils\\_array_api.py:712: RuntimeWarning: All-NaN slice encountered\n",
      "  return xp.asarray(numpy.nanmax(X, axis=axis))\n"
     ]
    }
   ],
   "source": [
    "# 5. Normalization and Feature Scaling\n",
    "# Choose scaling based on model needs; here we use Min-Max Scaling\n",
    "scaler = MinMaxScaler()\n",
    "train[sensor_cols] = scaler.fit_transform(train[sensor_cols])\n"
   ]
  },
  {
   "cell_type": "code",
   "execution_count": 12,
   "metadata": {},
   "outputs": [
    {
     "ename": "TypeError",
     "evalue": "OneHotEncoder.__init__() got an unexpected keyword argument 'sparse'",
     "output_type": "error",
     "traceback": [
      "\u001b[1;31m---------------------------------------------------------------------------\u001b[0m",
      "\u001b[1;31mTypeError\u001b[0m                                 Traceback (most recent call last)",
      "Cell \u001b[1;32mIn[12], line 4\u001b[0m\n\u001b[0;32m      1\u001b[0m \u001b[38;5;66;03m# 6. Encoding Categorical Variables\u001b[39;00m\n\u001b[0;32m      2\u001b[0m \u001b[38;5;66;03m# In this case, operational settings could be categorical, so let's check if they need encoding\u001b[39;00m\n\u001b[0;32m      3\u001b[0m \u001b[38;5;66;03m# Assuming op1, op2, and op3 might be categorical; encoding them\u001b[39;00m\n\u001b[1;32m----> 4\u001b[0m encoder \u001b[38;5;241m=\u001b[39m OneHotEncoder(sparse\u001b[38;5;241m=\u001b[39m\u001b[38;5;28;01mFalse\u001b[39;00m)\n\u001b[0;32m      5\u001b[0m op_encoded \u001b[38;5;241m=\u001b[39m encoder\u001b[38;5;241m.\u001b[39mfit_transform(train[operational_cols])\n\u001b[0;32m      6\u001b[0m op_encoded_df \u001b[38;5;241m=\u001b[39m pd\u001b[38;5;241m.\u001b[39mDataFrame(op_encoded, columns\u001b[38;5;241m=\u001b[39mencoder\u001b[38;5;241m.\u001b[39mget_feature_names_out(operational_cols))\n",
      "\u001b[1;31mTypeError\u001b[0m: OneHotEncoder.__init__() got an unexpected keyword argument 'sparse'"
     ]
    }
   ],
   "source": [
    "# 6. Encoding Categorical Variables\n",
    "# In this case, operational settings could be categorical, so let's check if they need encoding\n",
    "# Assuming op1, op2, and op3 might be categorical; encoding them\n",
    "encoder = OneHotEncoder(sparse=False)\n",
    "op_encoded = encoder.fit_transform(train[operational_cols])\n",
    "op_encoded_df = pd.DataFrame(op_encoded, columns=encoder.get_feature_names_out(operational_cols))\n",
    "train = pd.concat([train.reset_index(drop=True), op_encoded_df.reset_index(drop=True)], axis=1)\n",
    "train.drop(columns=operational_cols, inplace=True)\n"
   ]
  },
  {
   "cell_type": "code",
   "execution_count": 13,
   "metadata": {},
   "outputs": [],
   "source": [
    "# 7. Target Variable Processing\n",
    "# If target RUL needs further transformation, adjust as needed here. \n",
    "# (In this case, we already have RUL calculated and scaled, so no further steps are necessary.)"
   ]
  },
  {
   "cell_type": "code",
   "execution_count": null,
   "metadata": {},
   "outputs": [],
   "source": [
    "# 8. Final Data Review and Saving\n",
    "# Check for any leakage, e.g., ensuring RUL calculation is accurate and independent of future cycle\n",
    "train = train.sort_values(['id', 'cycle'])\n",
    "\n",
    "# Save preprocessed data for future use\n",
    "train.to_csv(\"processed_train.csv\", index=False)\n",
    "test.to_csv(\"processed_test.csv\", index=False)\n",
    "test_result.to_csv(\"processed_test_result.csv\", index=False)\n"
   ]
  }
 ],
 "metadata": {
  "kernelspec": {
   "display_name": "ChinmayeeENV",
   "language": "python",
   "name": "python3"
  },
  "language_info": {
   "codemirror_mode": {
    "name": "ipython",
    "version": 3
   },
   "file_extension": ".py",
   "mimetype": "text/x-python",
   "name": "python",
   "nbconvert_exporter": "python",
   "pygments_lexer": "ipython3",
   "version": "3.12.4"
  }
 },
 "nbformat": 4,
 "nbformat_minor": 2
}
